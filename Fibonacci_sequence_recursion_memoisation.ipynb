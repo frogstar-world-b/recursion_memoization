{
 "cells": [
  {
   "cell_type": "markdown",
   "metadata": {},
   "source": [
    "## The Fibonacci Sequence\n",
    "\n",
    "The Fibonacci sequence is a sequence of integers, the first of which is 1 and the second of which is also 1. After that, each number is the sum of the two preceding it ([wikipedia](https://en.wikipedia.org/wiki/Fibonacci_number))\n",
    "\n",
    "1, 1, 2, 3, 5, 8, 13, 21, $\\dots$.\n",
    "\n",
    "Some people add a zero at the beginning of the sequence. "
   ]
  },
  {
   "cell_type": "code",
   "execution_count": 1,
   "metadata": {
    "collapsed": true
   },
   "outputs": [],
   "source": [
    "import time"
   ]
  },
  {
   "cell_type": "code",
   "execution_count": 2,
   "metadata": {
    "collapsed": true
   },
   "outputs": [],
   "source": [
    "def test_fib_execution_time():\n",
    "    '''Prints the fibonacci sequence with n = {10, 20, 30, 35},\n",
    "    using the fib(n) function, and execution time.\n",
    "    '''\n",
    "    # print first 10 numbers in fib sequence\n",
    "    start = time.time()\n",
    "    print([fib(x) for x in range(1, 11)])\n",
    "    print('execution time of first 10 values is', \n",
    "          time.time() - start, 'seconds')\n",
    "\n",
    "    # print first 20 numbers in fib sequence\n",
    "    start = time.time()\n",
    "    print([fib(x) for x in range(1, 21)])\n",
    "    print('execution time of first 20 values is', \n",
    "          time.time() - start, 'seconds')\n",
    "\n",
    "    # print first 30 numbers in fib sequence\n",
    "    start = time.time()\n",
    "    print([fib(x) for x in range(1, 31)])\n",
    "    print('execution time of first 30 values is', \n",
    "          time.time() - start, 'seconds')\n",
    "\n",
    "    # print first 35 numbers in fib sequence\n",
    "    start = time.time()\n",
    "    print([fib(x) for x in range(1, 36)])\n",
    "    print('execution time of first 35 values is', \n",
    "          time.time() - start, 'seconds')\n"
   ]
  },
  {
   "cell_type": "markdown",
   "metadata": {},
   "source": [
    "### Fibonacci using recursion\n",
    "\n",
    "The function evaluation becomes very slow very quickly. Because we are using a recursive function, it sequentially makes recursive calls, thus repeating itself over and over."
   ]
  },
  {
   "cell_type": "code",
   "execution_count": 3,
   "metadata": {},
   "outputs": [
    {
     "name": "stdout",
     "output_type": "stream",
     "text": [
      "[1, 1, 2, 3, 5, 8, 13, 21, 34, 55]\n",
      "execution time of first 10 values is 0.0004038810729980469 seconds\n",
      "[1, 1, 2, 3, 5, 8, 13, 21, 34, 55, 89, 144, 233, 377, 610, 987, 1597, 2584, 4181, 6765]\n",
      "execution time of first 20 values is 0.021139860153198242 seconds\n",
      "[1, 1, 2, 3, 5, 8, 13, 21, 34, 55, 89, 144, 233, 377, 610, 987, 1597, 2584, 4181, 6765, 10946, 17711, 28657, 46368, 75025, 121393, 196418, 317811, 514229, 832040]\n",
      "execution time of first 30 values is 1.4480130672454834 seconds\n",
      "[1, 1, 2, 3, 5, 8, 13, 21, 34, 55, 89, 144, 233, 377, 610, 987, 1597, 2584, 4181, 6765, 10946, 17711, 28657, 46368, 75025, 121393, 196418, 317811, 514229, 832040, 1346269, 2178309, 3524578, 5702887, 9227465]\n",
      "execution time of first 35 values is 20.785470008850098 seconds\n"
     ]
    }
   ],
   "source": [
    "# 1, 1, 2, 3, 5, 8, 13, 21\n",
    "def fib(n):\n",
    "    # take care of erroneous arguments\n",
    "    if type(n) != int:\n",
    "        raise TypeError('n must be an integer')\n",
    "    if n < 1:\n",
    "        raise ValueError('n must be a positive integer')\n",
    "    # calculate the sequence    \n",
    "    if n == 1:\n",
    "        return 1\n",
    "    if n == 2:\n",
    "        return 1\n",
    "    if n > 2:\n",
    "        return fib(n-1) + fib(n-2)\n",
    "\n",
    "test_fib_execution_time()"
   ]
  },
  {
   "cell_type": "markdown",
   "metadata": {},
   "source": [
    "### Explicit memoization \n",
    "The idea is to store the values for recent calls so future calls do not have to repeat the work."
   ]
  },
  {
   "cell_type": "code",
   "execution_count": 4,
   "metadata": {},
   "outputs": [
    {
     "name": "stdout",
     "output_type": "stream",
     "text": [
      "[1, 1, 2, 3, 5, 8, 13, 21, 34, 55]\n",
      "execution time of first 10 values is 0.0002472400665283203 seconds\n",
      "[1, 1, 2, 3, 5, 8, 13, 21, 34, 55, 89, 144, 233, 377, 610, 987, 1597, 2584, 4181, 6765]\n",
      "execution time of first 20 values is 9.703636169433594e-05 seconds\n",
      "[1, 1, 2, 3, 5, 8, 13, 21, 34, 55, 89, 144, 233, 377, 610, 987, 1597, 2584, 4181, 6765, 10946, 17711, 28657, 46368, 75025, 121393, 196418, 317811, 514229, 832040]\n",
      "execution time of first 30 values is 9.799003601074219e-05 seconds\n",
      "[1, 1, 2, 3, 5, 8, 13, 21, 34, 55, 89, 144, 233, 377, 610, 987, 1597, 2584, 4181, 6765, 10946, 17711, 28657, 46368, 75025, 121393, 196418, 317811, 514229, 832040, 1346269, 2178309, 3524578, 5702887, 9227465]\n",
      "execution time of first 35 values is 7.915496826171875e-05 seconds\n",
      "execution time of first 1000 values is 0.0003230571746826172 seconds\n"
     ]
    }
   ],
   "source": [
    "# create a dict to store recent function calls\n",
    "# must be a dictionary, because lists will need to be appended, \n",
    "# lists don't accept index value assignment \n",
    "fib_cache = {}\n",
    "def fib(n):\n",
    "    if type(n) != int:\n",
    "        raise TypeError('n must be integer')\n",
    "    if n < 1:\n",
    "        raise ValueError('n must be a positive integer')\n",
    "    # check if the value of the nth term is in cache\n",
    "    if n in fib_cache:\n",
    "        return fib_cache[n]\n",
    "    # compute the nth term, caches it, then return it\n",
    "    if n == 1:\n",
    "        value = 1\n",
    "    if n == 2:\n",
    "        value = 1\n",
    "    if n > 2:\n",
    "        value = fib(n-1) + fib(n-2)\n",
    "    # store in dict\n",
    "    fib_cache[n] = value\n",
    "    return fib_cache[n]\n",
    "    \n",
    "test_fib_execution_time()\n",
    "\n",
    "# what about the first 100 numbers in fib sequence?\n",
    "start = time.time()\n",
    "[fib(x) for x in range(1, 101)]\n",
    "print('execution time of first 1000 values is', \n",
    "      time.time() - start, 'seconds')"
   ]
  },
  {
   "cell_type": "markdown",
   "metadata": {},
   "source": [
    "### Memoization using built-in function in `functools`\n",
    "\n",
    "The `lru_cache` function in [functools](https://docs.python.org/3/library/functools.html#functools.lru_cache) does the trick. We can simply add one line above our original recursion function.     \n",
    "`@` specifies that `lru_cache()` is a decorator$-$a function wrapped around your function. By default `lru_cache()` stores the values of the last 128 calls. Below, I increase that number to 1024 calls. "
   ]
  },
  {
   "cell_type": "code",
   "execution_count": 5,
   "metadata": {},
   "outputs": [
    {
     "name": "stdout",
     "output_type": "stream",
     "text": [
      "[1, 1, 2, 3, 5, 8, 13, 21, 34, 55]\n",
      "execution time of first 10 values is 0.00036406517028808594 seconds\n",
      "[1, 1, 2, 3, 5, 8, 13, 21, 34, 55, 89, 144, 233, 377, 610, 987, 1597, 2584, 4181, 6765]\n",
      "execution time of first 20 values is 0.0002281665802001953 seconds\n",
      "[1, 1, 2, 3, 5, 8, 13, 21, 34, 55, 89, 144, 233, 377, 610, 987, 1597, 2584, 4181, 6765, 10946, 17711, 28657, 46368, 75025, 121393, 196418, 317811, 514229, 832040]\n",
      "execution time of first 30 values is 6.508827209472656e-05 seconds\n",
      "[1, 1, 2, 3, 5, 8, 13, 21, 34, 55, 89, 144, 233, 377, 610, 987, 1597, 2584, 4181, 6765, 10946, 17711, 28657, 46368, 75025, 121393, 196418, 317811, 514229, 832040, 1346269, 2178309, 3524578, 5702887, 9227465]\n",
      "execution time of first 35 values is 7.796287536621094e-05 seconds\n",
      "execution time of first 1000 values is 0.00020241737365722656 seconds\n"
     ]
    }
   ],
   "source": [
    "# library function for memoization\n",
    "from functools import lru_cache\n",
    "\n",
    "@lru_cache(maxsize=1024)\n",
    "def fib(n):\n",
    "    # take care of erroneous arguments\n",
    "    if type(n) != int:\n",
    "        raise TypeError('n must be an integer')\n",
    "    if n < 1:\n",
    "        raise ValueError('n must be a positive integer')\n",
    "    # calculate the sequence    \n",
    "    if n == 1:\n",
    "        return 1\n",
    "    elif n == 2:\n",
    "        return 1\n",
    "    elif n > 2:\n",
    "        return fib(n-1) + fib(n-2)\n",
    "\n",
    "test_fib_execution_time()\n",
    "# what about the first 100 numbers in fib sequence?\n",
    "start = time.time()\n",
    "[fib(x) for x in range(1, 101)]\n",
    "print('execution time of first 1000 values is', \n",
    "      time.time() - start, 'seconds')"
   ]
  }
 ],
 "metadata": {
  "kernelspec": {
   "display_name": "Python 3",
   "language": "python",
   "name": "python3"
  },
  "language_info": {
   "codemirror_mode": {
    "name": "ipython",
    "version": 3
   },
   "file_extension": ".py",
   "mimetype": "text/x-python",
   "name": "python",
   "nbconvert_exporter": "python",
   "pygments_lexer": "ipython3",
   "version": "3.6.3"
  }
 },
 "nbformat": 4,
 "nbformat_minor": 2
}
